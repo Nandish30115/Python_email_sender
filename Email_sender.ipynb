{
  "nbformat": 4,
  "nbformat_minor": 0,
  "metadata": {
    "colab": {
      "provenance": [],
      "authorship_tag": "ABX9TyNLgHHq1kHkAPJT9hFqTq6o",
      "include_colab_link": true
    },
    "kernelspec": {
      "name": "python3",
      "display_name": "Python 3"
    },
    "language_info": {
      "name": "python"
    }
  },
  "cells": [
    {
      "cell_type": "markdown",
      "metadata": {
        "id": "view-in-github",
        "colab_type": "text"
      },
      "source": [
        "<a href=\"https://colab.research.google.com/github/Nandish30115/Python_email_sender/blob/main/Email_sender.ipynb\" target=\"_parent\"><img src=\"https://colab.research.google.com/assets/colab-badge.svg\" alt=\"Open In Colab\"/></a>"
      ]
    },
    {
      "cell_type": "code",
      "execution_count": 11,
      "metadata": {
        "id": "rGKwb2UxPjyt"
      },
      "outputs": [],
      "source": [
        "from email.message import EmailMessage\n",
        "import ssl\n",
        "import smtplib"
      ]
    },
    {
      "cell_type": "code",
      "source": [
        "email_sender='nandishp115@gmail.com'\n",
        "email_password='password'\n",
        "email_receiver='lejori3728@ahvin.com'\n",
        "\n",
        "body=\"\"\"\n",
        "yayy!!!! this is a test email.\n",
        "you have send your first mail through python\n",
        "\"\"\"\n",
        "msg=EmailMessage()\n",
        "msg['subject']='first email project'\n",
        "msg['from']=email_sender\n",
        "msg['to']=email_receiver\n",
        "msg.set_content(body)\n",
        "\n",
        "context=ssl.create_default_context()\n",
        "\n",
        "with smtplib.SMTP_SSL('smtp.gmail.com',465,context=context) as smtp:\n",
        "    smtp.login(email_sender,email_password)\n",
        "    smtp.send_message(msg)"
      ],
      "metadata": {
        "id": "qXoLXr4IaHtR"
      },
      "execution_count": 20,
      "outputs": []
    },
    {
      "cell_type": "code",
      "source": [],
      "metadata": {
        "id": "D7_N8ItfmyvH"
      },
      "execution_count": null,
      "outputs": []
    }
  ]
}